{
 "cells": [
  {
   "cell_type": "code",
   "execution_count": 7,
   "metadata": {},
   "outputs": [
    {
     "name": "stderr",
     "output_type": "stream",
     "text": [
      "[nltk_data] Downloading package punkt to\n",
      "[nltk_data]     C:\\Users\\Faraz\\AppData\\Roaming\\nltk_data...\n",
      "[nltk_data]   Unzipping tokenizers\\punkt.zip.\n"
     ]
    }
   ],
   "source": [
    "#pip install newspaper3k\n",
    "#pip install nltk\n",
    "\n",
    "from newspaper import Article\n",
    "import nltk\n",
    "nltk.download('punkt')\n",
    "url1 = 'http://fox13now.com/2013/12/30/new-year-new-laws-obamacare-pot-guns-and-drones/'\n",
    "urls = [\n",
    "    'http://fox13now.com/2013/12/30/new-year-new-laws-obamacare-pot-guns-and-drones/',\n",
    "    'https://timesofindia.indiatimes.com/entertainment/hindi/bollywood/news/sushant-singh-rajputs-family-releases-a-9-page-open-letter-reveal-they-have-have-been-receiving-threats/articleshow/77499660.cms',\n",
    "    'https://zeenews.india.com/people/exclusive-sushant-singh-rajputs-handwritten-notes-show-how-he-prepared-for-roles-in-films-and-his-vision-for-2020-2302333.html',\n",
    "    'https://www.news18.com/news/movies/sushant-singh-rajput-dath-case-lawyer-vikas-singh-calls-siddharth-pithani-intelligent-criminal-2780983.html',\n",
    "    'https://www.bbc.com/news/world-asia-india-53047596',\n",
    "    'https://edition.cnn.com/2020/06/14/world/sushant-singh-rajput-death-trnd/index.html'\n",
    "]\n",
    "\n",
    "# article = Article('https://www.bbc.com/zhongwen/simp/chinese_news/2012/12/121210_hongkong_politics.shtml', language='zh')\n",
    "\n"
   ]
  },
  {
   "cell_type": "code",
   "execution_count": 8,
   "metadata": {},
   "outputs": [],
   "source": [
    "def downloadandparse(url):\n",
    "    article = Article(url)\n",
    "    article.download()\n",
    "    article.parse()\n",
    "\n",
    "    article.nlp()\n",
    "    return article"
   ]
  },
  {
   "cell_type": "code",
   "execution_count": 9,
   "metadata": {},
   "outputs": [],
   "source": [
    "articles = list()\n",
    "for url in urls:\n",
    "    articles.append(downloadandparse(url))"
   ]
  },
  {
   "cell_type": "code",
   "execution_count": 10,
   "metadata": {},
   "outputs": [
    {
     "data": {
      "text/plain": [
       "'(CNN) Indian actor Sushant Singh Rajput was found dead in his Mumbai residence on Sunday, according to a statement from Mumbai police.\\nThe actor made his debut in Hindi cinema in 2013 in \"Kai Po Che!,\" according to the film site IMDb .\\nHe was awarded best actor (male) at the Indian Film Festival of Melbourne in 2017 for his movie \"M.S.\\nDhoni: The Untold Story,\" in which he played Indian cricket star Mahendra Singh Dhoni.\\nHe also played the role of Manav in the TV series Pavitra Rishta, or Sacred Ties, from 2009 to 2014.'"
      ]
     },
     "execution_count": 10,
     "metadata": {},
     "output_type": "execute_result"
    }
   ],
   "source": [
    "articles[5].summary"
   ]
  },
  {
   "cell_type": "code",
   "execution_count": null,
   "metadata": {},
   "outputs": [],
   "source": []
  }
 ],
 "metadata": {
  "kernelspec": {
   "display_name": "Python 3",
   "language": "python",
   "name": "python3"
  },
  "language_info": {
   "codemirror_mode": {
    "name": "ipython",
    "version": 3
   },
   "file_extension": ".py",
   "mimetype": "text/x-python",
   "name": "python",
   "nbconvert_exporter": "python",
   "pygments_lexer": "ipython3",
   "version": "3.7.1"
  }
 },
 "nbformat": 4,
 "nbformat_minor": 2
}
